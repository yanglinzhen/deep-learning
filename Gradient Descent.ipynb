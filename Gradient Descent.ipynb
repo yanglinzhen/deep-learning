{
 "cells": [
  {
   "cell_type": "code",
   "execution_count": 2,
   "metadata": {},
   "outputs": [
    {
     "name": "stdout",
     "output_type": "stream",
     "text": [
      "init_w=[1], init_b=5.340693241058841\n",
      "first 20 elements of \n",
      "x: [ 45.45454545  16.16161616  50.50505051  94.94949495  23.23232323\n",
      "  93.93939394  59.5959596   29.29292929 100.          12.12121212\n",
      "  39.39393939  81.81818182  63.63636364  47.47474747  24.24242424\n",
      "  40.4040404   95.95959596  77.77777778  83.83838384  82.82828283] \r\n",
      "y: [ 35.30292187  24.48008946 100.80425537  62.86517369  80.11791901\n",
      "  62.0748212   68.72109168   7.00477611  71.45230106  14.67194719\n",
      "  72.75650932  84.0687661   43.80590694  69.27368815  38.56515365\n",
      "  57.54018777 125.00020413 100.93523719  77.29119937  90.48938867]\n"
     ]
    }
   ],
   "source": [
    "import numpy as np\n",
    "import matplotlib.pyplot as plt\n",
    "\n",
    "size=100\n",
    "total_x = np.linspace(0, size, size)\n",
    "np.random.shuffle(total_x)\n",
    "init_w = np.random.randint(5, size=1)\n",
    "init_b = np.random.normal(2, 30, (size, ))\n",
    "total_y = total_x * init_w + init_b\n",
    "\n",
    "print(\"init_w={0}, init_b={1}\".format(init_w, init_b.sum()/len(init_b)))\n",
    "print(\"first 20 elements of \\nx: {0} \\r\\ny: {1}\".format(total_x[:20], total_y[:20]))\n",
    "batch_size=30\n",
    "train_x = total_x[:batch_size]\n",
    "train_y = total_y[:batch_size]\n",
    "\n",
    "loop=5\n",
    "w=0\n",
    "b=0\n",
    "rate=0.0001\n",
    "N = len(train_y)"
   ]
  },
  {
   "cell_type": "code",
   "execution_count": 3,
   "metadata": {},
   "outputs": [
    {
     "name": "stdout",
     "output_type": "stream",
     "text": [
      "w:1.0400752898923742, b:0.017026703088816444, loss:532\n"
     ]
    },
    {
     "data": {
      "image/png": "[encoded data removed]",
      "text/plain": [
       "<Figure size 432x288 with 1 Axes>"
      ]
     },
     "metadata": {},
     "output_type": "display_data"
    }
   ],
   "source": [
    "loss = 0\n",
    "for i in range(loop):\n",
    "    pred_y = w * train_x + b\n",
    "    loss = ((train_y - pred_y) ** 2 / N).sum().astype(int)\n",
    "    gradient_w = ((pred_y - train_y) * train_x * 2 / N).sum()#f'(w)=2/N*x*(wx+b-y)\n",
    "    gradient_b = ((pred_y - train_y) * 2 / N).sum()#f'(b)=2/N*(wx+b-y)\n",
    "#     print(\"loss={0}, w={1}, gradient_w={2}, b={3}, gradient_b={4}\".format(loss, w, gradient_w, b, gradient_b))\n",
    "    w = w - (rate * gradient_w)\n",
    "    b = b - (rate * gradient_b)\n",
    "print(\"w:{0}, b:{1}, loss:{2}\".format(w, b, loss))\n",
    "\n",
    "test_y = w * train_x + b\n",
    "\n",
    "min_x = min(total_x[batch_size:])\n",
    "max_x = max(total_x[batch_size:])\n",
    "result_x = np.array([min_x, max_x])\n",
    "result_y = np.array([w * min_x + b, w * max_x + b])\n",
    "    \n",
    "plt.plot(total_x, total_y, 'bo', label='train_data')\n",
    "plt.plot(result_x, result_y, 'y', label='test_data')\n",
    "\n",
    "plt.title('Linear Regression')\n",
    "plt.xlabel('x')\n",
    "plt.ylabel('y')\n",
    "plt.legend()\n",
    "\n",
    "plt.show()"
   ]
  },
  {
   "cell_type": "code",
   "execution_count": 4,
   "metadata": {},
   "outputs": [
    {
     "name": "stderr",
     "output_type": "stream",
     "text": [
      "/DevTools/anaconda3/lib/python3.6/site-packages/h5py/__init__.py:36: FutureWarning: Conversion of the second argument of issubdtype from `float` to `np.floating` is deprecated. In future, it will be treated as `np.float64 == np.dtype(float).type`.\n",
      "  from ._conv import register_converters as _register_converters\n",
      "Using TensorFlow backend.\n"
     ]
    },
    {
     "name": "stdout",
     "output_type": "stream",
     "text": [
      "Epoch 1/5\n",
      "30/30 [==============================] - 1s 21ms/step - loss: 608.2754 - acc: 0.0000e+00\n",
      "Epoch 2/5\n",
      "30/30 [==============================] - 0s 560us/step - loss: 563.3978 - acc: 0.0000e+00\n",
      "Epoch 3/5\n",
      "30/30 [==============================] - 0s 325us/step - loss: 609.9762 - acc: 0.0000e+00\n",
      "Epoch 4/5\n",
      "30/30 [==============================] - 0s 231us/step - loss: 550.4014 - acc: 0.0000e+00\n",
      "Epoch 5/5\n",
      "30/30 [==============================] - 0s 179us/step - loss: 553.6717 - acc: 0.0000e+00\n",
      "w:[[1.0966922]], b:[0.00664255]\n"
     ]
    }
   ],
   "source": [
    "import keras\n",
    "from keras import models\n",
    "from keras import layers\n",
    "from keras import optimizers\n",
    "\n",
    "network = models.Sequential()\n",
    "network.add(layers.Dense(1, activation='linear', input_shape=(1,)))\n",
    "\n",
    "opt = optimizers.SGD(lr=rate)\n",
    "network.compile(optimizer=opt,\n",
    "                loss='mse',\n",
    "                metrics=['accuracy'])\n",
    "network.fit(train_x, train_y, epochs=loop, batch_size=10)\n",
    "W,b = network.layers[0].get_weights()\n",
    "print(\"w:{0}, b:{1}\".format(W, b))\n"
   ]
  },
  {
   "cell_type": "code",
   "execution_count": 5,
   "metadata": {},
   "outputs": [
    {
     "data": {
      "image/png": "[encoded data removed]",
      "text/plain": [
       "<Figure size 432x288 with 1 Axes>"
      ]
     },
     "metadata": {},
     "output_type": "display_data"
    }
   ],
   "source": [
    "x_test = total_x[batch_size:]\n",
    "\n",
    "y_pred = network.predict(x_test)\n",
    "plt.scatter(x_test, y_pred)\n",
    "# plt.plot(x_test, y_pred)\n",
    "plt.show()"
   ]
  },
  {
   "cell_type": "code",
   "execution_count": 62,
   "metadata": {},
   "outputs": [
    {
     "name": "stdout",
     "output_type": "stream",
     "text": [
      "[0.5, 3, -0.2, 3]\n",
      "[ 6.66666667  5.55555556 10.          3.33333333  8.88888889  0.\n",
      "  7.77777778  4.44444444  1.11111111  2.22222222]\n",
      "[66.28       55.73333333 97.92       34.64       87.37333333  3.\n",
      " 76.82666667 45.18666667 13.54666667 24.09333333]\n"
     ]
    },
    {
     "data": {
      "image/png": "[encoded data removed]",
      "text/plain": [
       "<Figure size 432x288 with 1 Axes>"
      ]
     },
     "metadata": {},
     "output_type": "display_data"
    }
   ],
   "source": [
    "size=10\n",
    "x = np.linspace(0, size, size)\n",
    "np.random.shuffle(x)\n",
    "w = [0.5, 3, -0.2, 3]\n",
    "print(w)\n",
    "def generateY(w, x):\n",
    "    result = np.zeros(x.shape)\n",
    "    size = len(w)\n",
    "    for i in range(size - 1):\n",
    "        result += (x * (w[i] ** (i + 1)))\n",
    "    \n",
    "    result += w[size - 1]\n",
    "    return result\n",
    "        \n",
    "y = generateY(w, x)\n",
    "print(x)\n",
    "print(y)\n",
    "\n",
    "plt.plot(x, y, 'ro')\n",
    "# plt.plot(x_test, y_pred)\n",
    "plt.show()"
   ]
  },
  {
   "cell_type": "code",
   "execution_count": 57,
   "metadata": {},
   "outputs": [
    {
     "data": {
      "image/png": "[encoded data removed]",
      "text/plain": [
       "<Figure size 432x288 with 1 Axes>"
      ]
     },
     "metadata": {},
     "output_type": "display_data"
    }
   ],
   "source": [
    "import numpy as np\n",
    "import matplotlib.pyplot as plt\n",
    "\n",
    "def f(t):\n",
    "    return np.exp(-t) * np.cos(2*np.pi*t)\n",
    "\n",
    "t1 = np.arange(0.0, 5.0, 0.1)\n",
    "t2 = f(t1)\n",
    "plt.plot(t1, t2, 'bo')\n",
    "plt.show()"
   ]
  }
 ],
 "metadata": {
  "kernelspec": {
   "display_name": "Python 3",
   "language": "python",
   "name": "python3"
  },
  "language_info": {
   "codemirror_mode": {
    "name": "ipython",
    "version": 3
   },
   "file_extension": ".py",
   "mimetype": "text/x-python",
   "name": "python",
   "nbconvert_exporter": "python",
   "pygments_lexer": "ipython3",
   "version": "3.6.5"
  }
 },
 "nbformat": 4,
 "nbformat_minor": 2
}

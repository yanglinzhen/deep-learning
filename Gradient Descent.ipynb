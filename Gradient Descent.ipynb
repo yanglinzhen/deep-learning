{
 "cells": [
  {
   "cell_type": "code",
   "execution_count": 94,
   "metadata": {},
   "outputs": [
    {
     "name": "stdout",
     "output_type": "stream",
     "text": [
      "init_w=[1], init_b=14.58\n",
      "first 20 elements of \n",
      "x: [75 73  6 12 11 19 93 79 27  8 14 55 13 69 52 41 60 35  0 53] \r\n",
      "y: [104  97  17  39  14  27 100  91  50  24  26  62  21  87  70  48  74  61\n",
      "   0  63]\n"
     ]
    }
   ],
   "source": [
    "import numpy as np\n",
    "import matplotlib.pyplot as plt\n",
    "\n",
    "size=100\n",
    "total_x = np.array(range(size))\n",
    "np.random.shuffle(total_x)\n",
    "init_w = np.random.randint(5, size=1)\n",
    "init_b = np.random.randint(0, 30, size)\n",
    "total_y = total_x * init_w + init_b\n",
    "\n",
    "print(\"init_w={0}, init_b={1}\".format(init_w, init_b.sum()/len(init_b)))\n",
    "print(\"first 20 elements of \\nx: {0} \\r\\ny: {1}\".format(total_x[:20], total_y[:20]))\n",
    "\n",
    "train_x = total_x[:10]\n",
    "train_y = total_y[:10]\n",
    "\n",
    "loop=4\n",
    "w=0\n",
    "b=0\n",
    "rate=0.0001\n",
    "N = len(train_y)"
   ]
  },
  {
   "cell_type": "code",
   "execution_count": 95,
   "metadata": {},
   "outputs": [
    {
     "name": "stdout",
     "output_type": "stream",
     "text": [
      "w:1.197527215143938, b:0.02238467774363625\n"
     ]
    },
    {
     "data": {
      "image/png": "[encoded data removed]",
      "text/plain": [
       "<Figure size 432x288 with 1 Axes>"
      ]
     },
     "metadata": {},
     "output_type": "display_data"
    }
   ],
   "source": [
    "for i in range(loop):\n",
    "    pred_y = w * train_x + b\n",
    "    loss = ((train_y - pred_y) ** 2 / N).sum().astype(int)\n",
    "    gradient_w = ((pred_y - train_y) * train_x * 2 / N).sum()#f'(w)=2/N*x*(wx+b-y)\n",
    "    gradient_b = ((pred_y - train_y) * 2 / N).sum()#f'(b)=2/N*(wx+b-y)\n",
    "#     print(\"loss={0}, w={1}, gradient_w={2}, b={3}, gradient_b={4}\".format(loss, w, gradient_w, b, gradient_b))\n",
    "    w = w - (rate * gradient_w)\n",
    "    b = b - (rate * gradient_b)\n",
    "print(\"w:{0}, b:{1}\".format(w, b))\n",
    "\n",
    "test_y = w * train_x + b\n",
    "\n",
    "min_x = min(total_x)\n",
    "max_x = max(total_x)\n",
    "result_x = np.array([min_x, max_x])\n",
    "result_y = np.array([w * min_x + b, w * max_x + b])\n",
    "    \n",
    "plt.plot(total_x, total_y, 'bo', label='train_data')\n",
    "plt.plot(result_x, result_y, 'y', label='test_data')\n",
    "\n",
    "plt.title('Linear Regression')\n",
    "plt.xlabel('x')\n",
    "plt.ylabel('y')\n",
    "plt.legend()\n",
    "\n",
    "plt.show()"
   ]
  },
  {
   "cell_type": "code",
   "execution_count": 81,
   "metadata": {},
   "outputs": [
    {
     "name": "stderr",
     "output_type": "stream",
     "text": [
      "/DevTools/anaconda3/lib/python3.6/site-packages/h5py/__init__.py:36: FutureWarning: Conversion of the second argument of issubdtype from `float` to `np.floating` is deprecated. In future, it will be treated as `np.float64 == np.dtype(float).type`.\n",
      "  from ._conv import register_converters as _register_converters\n",
      "Using TensorFlow backend.\n"
     ]
    }
   ],
   "source": [
    "import keras\n",
    "from keras import models\n",
    "from keras import layers\n",
    "from keras import optimizers\n",
    "\n",
    "network = models.Sequential()\n",
    "network.add(layers.Dense(1, input_shape=(1,)))\n"
   ]
  },
  {
   "cell_type": "code",
   "execution_count": 82,
   "metadata": {},
   "outputs": [
    {
     "name": "stdout",
     "output_type": "stream",
     "text": [
      "Epoch 1/10\n",
      "10/10 [==============================] - 0s 11ms/step - loss: 18136.1973\n",
      "Epoch 2/10\n",
      "10/10 [==============================] - 0s 102us/step - loss: 33594028.0000\n",
      "Epoch 3/10\n",
      "10/10 [==============================] - 0s 140us/step - loss: 62277738496.0000\n",
      "Epoch 4/10\n",
      "10/10 [==============================] - 0s 79us/step - loss: 115452562898944.0000\n",
      "Epoch 5/10\n",
      "10/10 [==============================] - 0s 81us/step - loss: 214029937030463488.0000\n",
      "Epoch 6/10\n",
      "10/10 [==============================] - 0s 359us/step - loss: 396775923264362905600.0000\n",
      "Epoch 7/10\n",
      "10/10 [==============================] - 0s 167us/step - loss: 735556786237358615822336.0000\n",
      "Epoch 8/10\n",
      "10/10 [==============================] - 0s 204us/step - loss: 1363600145359205278565793792.0000\n",
      "Epoch 9/10\n",
      "10/10 [==============================] - 0s 175us/step - loss: 2527888067330581896894108139520.0000\n",
      "Epoch 10/10\n",
      "10/10 [==============================] - 0s 148us/step - loss: 4686285463141820406369723330068480.0000\n"
     ]
    },
    {
     "data": {
      "text/plain": [
       "<keras.callbacks.History at 0x7fa40198ea58>"
      ]
     },
     "execution_count": 82,
     "metadata": {},
     "output_type": "execute_result"
    }
   ],
   "source": [
    "network.compile(optimizer='sgd',\n",
    "                loss='mean_squared_error')\n",
    "network.fit(train_x, train_y, epochs=10, batch_size=100)"
   ]
  }
 ],
 "metadata": {
  "kernelspec": {
   "display_name": "Python 3",
   "language": "python",
   "name": "python3"
  },
  "language_info": {
   "codemirror_mode": {
    "name": "ipython",
    "version": 3
   },
   "file_extension": ".py",
   "mimetype": "text/x-python",
   "name": "python",
   "nbconvert_exporter": "python",
   "pygments_lexer": "ipython3",
   "version": "3.6.5"
  }
 },
 "nbformat": 4,
 "nbformat_minor": 2
}

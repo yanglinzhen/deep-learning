{
 "cells": [
  {
   "cell_type": "code",
   "execution_count": 1,
   "metadata": {},
   "outputs": [
    {
     "name": "stdout",
     "output_type": "stream",
     "text": [
      "init_w=[4], init_b=2.2044195861047204\n",
      "first 20 elements of \n",
      "x: [ 38.38383838  47.47474747  37.37373737  65.65656566  97.97979798\n",
      "   2.02020202  64.64646465  34.34343434  87.87878788  51.51515152\n",
      "  67.67676768  33.33333333  16.16161616   7.07070707   3.03030303\n",
      "  14.14141414  11.11111111   6.06060606  26.26262626  43.43434343] \r\n",
      "y: [ 195.00220011  147.82886338  165.16775305  229.34653705  397.50360781\n",
      "   19.58609919  244.31557259  148.99859173  329.58110954  169.88333956\n",
      "  251.30160731  118.89461048   98.58564543   35.49313993   34.52962872\n",
      "   46.62391746   48.30819868   27.27436551   77.25420912  182.45684668]\n"
     ]
    }
   ],
   "source": [
    "import numpy as np\n",
    "import matplotlib.pyplot as plt\n",
    "\n",
    "size=100\n",
    "total_x = np.linspace(0, size, size)\n",
    "np.random.shuffle(total_x)\n",
    "init_w = np.random.randint(5, size=1)\n",
    "init_b = np.random.normal(2, 30, (size, ))\n",
    "total_y = total_x * init_w + init_b\n",
    "\n",
    "print(\"init_w={0}, init_b={1}\".format(init_w, init_b.sum()/len(init_b)))\n",
    "print(\"first 20 elements of \\nx: {0} \\r\\ny: {1}\".format(total_x[:20], total_y[:20]))\n",
    "batch_size=30\n",
    "train_x = total_x[:batch_size]\n",
    "train_y = total_y[:batch_size]\n",
    "\n",
    "loop=5\n",
    "w=0\n",
    "b=0\n",
    "rate=0.0001\n",
    "N = len(train_y)"
   ]
  },
  {
   "cell_type": "code",
   "execution_count": null,
   "metadata": {},
   "outputs": [
    {
     "name": "stdout",
     "output_type": "stream",
     "text": [
      "w:3.830845808503313, b:0.06392876072850506, loss:577\n"
     ]
    },
    {
     "data": {
      "image/png": "[encoded data removed]",
      "text/plain": [
       "<matplotlib.figure.Figure at 0x298d75b9c88>"
      ]
     },
     "metadata": {},
     "output_type": "display_data"
    }
   ],
   "source": [
    "loss = 0\n",
    "for i in range(loop):\n",
    "    pred_y = w * train_x + b\n",
    "    loss = ((train_y - pred_y) ** 2 / N).sum().astype(int)\n",
    "    gradient_w = ((pred_y - train_y) * train_x * 2 / N).sum()#f'(w)=2/N*x*(wx+b-y)\n",
    "    gradient_b = ((pred_y - train_y) * 2 / N).sum()#f'(b)=2/N*(wx+b-y)\n",
    "#     print(\"loss={0}, w={1}, gradient_w={2}, b={3}, gradient_b={4}\".format(loss, w, gradient_w, b, gradient_b))\n",
    "    w = w - (rate * gradient_w)\n",
    "    b = b - (rate * gradient_b)\n",
    "print(\"w:{0}, b:{1}, loss:{2}\".format(w, b, loss))\n",
    "\n",
    "test_y = w * train_x + b\n",
    "\n",
    "min_x = min(total_x[batch_size:])\n",
    "max_x = max(total_x[batch_size:])\n",
    "result_x = np.array([min_x, max_x])\n",
    "result_y = np.array([w * min_x + b, w * max_x + b])\n",
    "    \n",
    "plt.plot(total_x, total_y, 'bo', label='train_data')\n",
    "plt.plot(result_x, result_y, 'y', label='test_data')\n",
    "\n",
    "plt.title('Linear Regression')\n",
    "plt.xlabel('x')\n",
    "plt.ylabel('y')\n",
    "plt.legend()\n",
    "\n",
    "plt.show()"
   ]
  },
  {
   "cell_type": "code",
   "execution_count": null,
   "metadata": {},
   "outputs": [
    {
     "name": "stderr",
     "output_type": "stream",
     "text": [
      "Using TensorFlow backend.\n"
     ]
    }
   ],
   "source": [
    "import keras\n",
    "from keras import models\n",
    "from keras import layers\n",
    "from keras import optimizers\n",
    "\n",
    "network = models.Sequential()\n",
    "network.add(layers.Dense(1, activation='linear', input_shape=(1,)))\n",
    "\n",
    "opt = optimizers.SGD(lr=rate)\n",
    "network.compile(optimizer=opt,\n",
    "                loss='mse',\n",
    "                metrics=['accuracy'])\n",
    "network.fit(train_x, train_y, epochs=loop, batch_size=10)\n",
    "W,b = network.layers[0].get_weights()\n",
    "print(\"w:{0}, b:{1}\".format(W, b))\n"
   ]
  },
  {
   "cell_type": "code",
   "execution_count": null,
   "metadata": {},
   "outputs": [],
   "source": [
    "x_test = total_x[batch_size:]\n",
    "\n",
    "y_pred = network.predict(x_test)\n",
    "plt.scatter(x_test, y_pred)\n",
    "# plt.plot(x_test, y_pred)\n",
    "plt.show()"
   ]
  }
 ],
 "metadata": {
  "kernelspec": {
   "display_name": "Python 3",
   "language": "python",
   "name": "python3"
  },
  "language_info": {
   "codemirror_mode": {
    "name": "ipython",
    "version": 3
   },
   "file_extension": ".py",
   "mimetype": "text/x-python",
   "name": "python",
   "nbconvert_exporter": "python",
   "pygments_lexer": "ipython3",
   "version": "3.6.1"
  }
 },
 "nbformat": 4,
 "nbformat_minor": 2
}

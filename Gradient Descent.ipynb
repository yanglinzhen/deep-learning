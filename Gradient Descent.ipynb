{
 "cells": [
  {
   "cell_type": "code",
   "execution_count": 1,
   "metadata": {},
   "outputs": [
    {
     "name": "stdout",
     "output_type": "stream",
     "text": [
      "init_w=[1], init_b=2.538924076447042\n",
      "first 20 elements of \n",
      "x: [ 13.13131313  98.98989899  68.68686869   2.02020202  17.17171717\n",
      "  78.78787879  97.97979798  73.73737374   5.05050505  33.33333333\n",
      "  74.74747475  21.21212121  75.75757576  43.43434343  47.47474747\n",
      "  35.35353535 100.          23.23232323  71.71717172  94.94949495] \r\n",
      "y: [ -3.13421424 119.39809485 100.4930959   10.92663721  61.8883654\n",
      "  79.50606049 119.66362304 109.41515282  16.13640223 -17.56700929\n",
      "  57.08295769  36.72095964  40.39399882  29.74034962 103.49049872\n",
      "  30.72772205 168.03696403  -6.69522189  94.46435879  42.1481536 ]\n"
     ]
    }
   ],
   "source": [
    "import numpy as np\n",
    "import matplotlib.pyplot as plt\n",
    "\n",
    "size=100\n",
    "total_x = np.linspace(0, size, size)\n",
    "np.random.shuffle(total_x)\n",
    "init_w = np.random.randint(5, size=1)\n",
    "init_b = np.random.normal(2, 30, (size, ))\n",
    "total_y = total_x * init_w + init_b\n",
    "\n",
    "print(\"init_w={0}, init_b={1}\".format(init_w, init_b.sum()/len(init_b)))\n",
    "print(\"first 20 elements of \\nx: {0} \\r\\ny: {1}\".format(total_x[:20], total_y[:20]))\n",
    "batch_size=30\n",
    "train_x = total_x[:batch_size]\n",
    "train_y = total_y[:batch_size]\n",
    "\n",
    "loop=5\n",
    "w=0\n",
    "b=0\n",
    "rate=0.0001\n",
    "N = len(train_y)"
   ]
  },
  {
   "cell_type": "code",
   "execution_count": 2,
   "metadata": {},
   "outputs": [
    {
     "name": "stdout",
     "output_type": "stream",
     "text": [
      "w:1.102829380013793, b:0.01595405360513678, loss:847\n"
     ]
    },
    {
     "data": {
      "image/png": "[encoded data removed]",
      "text/plain": [
       "<Figure size 432x288 with 1 Axes>"
      ]
     },
     "metadata": {},
     "output_type": "display_data"
    }
   ],
   "source": [
    "loss = 0\n",
    "for i in range(loop):\n",
    "    pred_y = w * train_x + b\n",
    "    loss = ((train_y - pred_y) ** 2 / N).sum().astype(int)\n",
    "    gradient_w = ((pred_y - train_y) * train_x * 2 / N).sum()#f'(w)=2/N*x*(wx+b-y)\n",
    "    gradient_b = ((pred_y - train_y) * 2 / N).sum()#f'(b)=2/N*(wx+b-y)\n",
    "#     print(\"loss={0}, w={1}, gradient_w={2}, b={3}, gradient_b={4}\".format(loss, w, gradient_w, b, gradient_b))\n",
    "    w = w - (rate * gradient_w)\n",
    "    b = b - (rate * gradient_b)\n",
    "print(\"w:{0}, b:{1}, loss:{2}\".format(w, b, loss))\n",
    "\n",
    "test_y = w * train_x + b\n",
    "\n",
    "min_x = min(total_x[batch_size:])\n",
    "max_x = max(total_x[batch_size:])\n",
    "result_x = np.array([min_x, max_x])\n",
    "result_y = np.array([w * min_x + b, w * max_x + b])\n",
    "    \n",
    "plt.plot(total_x, total_y, 'bo', label='train_data')\n",
    "plt.plot(result_x, result_y, 'y', label='test_data')\n",
    "\n",
    "plt.title('Linear Regression')\n",
    "plt.xlabel('x')\n",
    "plt.ylabel('y')\n",
    "plt.legend()\n",
    "\n",
    "plt.show()"
   ]
  },
  {
   "cell_type": "code",
   "execution_count": 3,
   "metadata": {},
   "outputs": [
    {
     "name": "stderr",
     "output_type": "stream",
     "text": [
      "/DevTools/anaconda3/lib/python3.6/site-packages/h5py/__init__.py:36: FutureWarning: Conversion of the second argument of issubdtype from `float` to `np.floating` is deprecated. In future, it will be treated as `np.float64 == np.dtype(float).type`.\n",
      "  from ._conv import register_converters as _register_converters\n",
      "Using TensorFlow backend.\n"
     ]
    },
    {
     "name": "stdout",
     "output_type": "stream",
     "text": [
      "Epoch 1/5\n",
      "30/30 [==============================] - 0s 7ms/step - loss: 873.6900 - acc: 0.0000e+00\n",
      "Epoch 2/5\n",
      "30/30 [==============================] - 0s 222us/step - loss: 847.6159 - acc: 0.0000e+00\n",
      "Epoch 3/5\n",
      "30/30 [==============================] - 0s 404us/step - loss: 866.4401 - acc: 0.0000e+00\n",
      "Epoch 4/5\n",
      "30/30 [==============================] - 0s 616us/step - loss: 938.0233 - acc: 0.0000e+00\n",
      "Epoch 5/5\n",
      "30/30 [==============================] - 0s 640us/step - loss: 867.4041 - acc: 0.0000e+00\n",
      "w:[[1.2354052]], b:[0.00085494]\n"
     ]
    }
   ],
   "source": [
    "import keras\n",
    "from keras import models\n",
    "from keras import layers\n",
    "from keras import optimizers\n",
    "\n",
    "network = models.Sequential()\n",
    "network.add(layers.Dense(1, activation='linear', input_shape=(1,)))\n",
    "\n",
    "opt = optimizers.SGD(lr=rate)\n",
    "network.compile(optimizer=opt,\n",
    "                loss='mse',\n",
    "                metrics=['accuracy'])\n",
    "network.fit(train_x, train_y, epochs=loop, batch_size=10)\n",
    "W,b = network.layers[0].get_weights()\n",
    "print(\"w:{0}, b:{1}\".format(W, b))\n"
   ]
  },
  {
   "cell_type": "code",
   "execution_count": 4,
   "metadata": {},
   "outputs": [
    {
     "data": {
      "image/png": "[encoded data removed]",
      "text/plain": [
       "<Figure size 432x288 with 1 Axes>"
      ]
     },
     "metadata": {},
     "output_type": "display_data"
    }
   ],
   "source": [
    "x_test = total_x[batch_size:]\n",
    "\n",
    "y_pred = network.predict(x_test)\n",
    "plt.scatter(x_test, y_pred)\n",
    "# plt.plot(x_test, y_pred)\n",
    "plt.show()"
   ]
  },
  {
   "cell_type": "code",
   "execution_count": 5,
   "metadata": {},
   "outputs": [
    {
     "data": {
      "image/png": "[encoded data removed]",
      "text/plain": [
       "<Figure size 432x288 with 1 Axes>"
      ]
     },
     "metadata": {},
     "output_type": "display_data"
    }
   ],
   "source": [
    "size=40\n",
    "x = np.linspace(-1.0, 1.0, size)\n",
    "test_x = x\n",
    "np.random.shuffle(x)\n",
    "w = [-0.8, -0.2, 0.9, 0.5]\n",
    "def generateY(w, x):\n",
    "    result = np.zeros(x.shape)\n",
    "    size = len(w)\n",
    "    for i in reversed(range(size)):\n",
    "        result += (w[size - i - 1] * (x ** i))\n",
    "    return result\n",
    "y = generateY(w, x)\n",
    "y += np.random.uniform(-0.09, 0.09, y.shape)\n",
    "\n",
    "plt.plot(x, y, 'ro')\n",
    "# plt.plot(x_test, y_pred)\n",
    "plt.show()"
   ]
  },
  {
   "cell_type": "code",
   "execution_count": 13,
   "metadata": {},
   "outputs": [
    {
     "name": "stdout",
     "output_type": "stream",
     "text": [
      "Epoch 1/20\n",
      "40/40 [==============================] - 0s 8ms/step - loss: 0.2522 - acc: 0.0000e+00\n",
      "Epoch 2/20\n",
      "40/40 [==============================] - 0s 677us/step - loss: 0.1940 - acc: 0.0000e+00\n",
      "Epoch 3/20\n",
      "40/40 [==============================] - 0s 404us/step - loss: 0.1508 - acc: 0.0000e+00\n",
      "Epoch 4/20\n",
      "40/40 [==============================] - 0s 666us/step - loss: 0.1184 - acc: 0.0000e+00\n",
      "Epoch 5/20\n",
      "40/40 [==============================] - 0s 234us/step - loss: 0.0942 - acc: 0.0000e+00\n",
      "Epoch 6/20\n",
      "40/40 [==============================] - 0s 843us/step - loss: 0.0761 - acc: 0.0000e+00\n",
      "Epoch 7/20\n",
      "40/40 [==============================] - 0s 500us/step - loss: 0.0623 - acc: 0.0000e+00\n",
      "Epoch 8/20\n",
      "40/40 [==============================] - 0s 822us/step - loss: 0.0521 - acc: 0.0000e+00\n",
      "Epoch 9/20\n",
      "40/40 [==============================] - 0s 404us/step - loss: 0.0442 - acc: 0.0000e+00\n",
      "Epoch 10/20\n",
      "40/40 [==============================] - 0s 910us/step - loss: 0.0382 - acc: 0.0000e+00\n",
      "Epoch 11/20\n",
      "40/40 [==============================] - 0s 1ms/step - loss: 0.0336 - acc: 0.0000e+00\n",
      "Epoch 12/20\n",
      "40/40 [==============================] - 0s 1ms/step - loss: 0.0300 - acc: 0.0000e+00\n",
      "Epoch 13/20\n",
      "40/40 [==============================] - 0s 2ms/step - loss: 0.0272 - acc: 0.0000e+00\n",
      "Epoch 14/20\n",
      "40/40 [==============================] - 0s 1ms/step - loss: 0.0250 - acc: 0.0000e+00\n",
      "Epoch 15/20\n",
      "40/40 [==============================] - 0s 1ms/step - loss: 0.0232 - acc: 0.0000e+00\n",
      "Epoch 16/20\n",
      "40/40 [==============================] - 0s 3ms/step - loss: 0.0219 - acc: 0.0000e+00\n",
      "Epoch 17/20\n",
      "40/40 [==============================] - 0s 4ms/step - loss: 0.0206 - acc: 0.0000e+00\n",
      "Epoch 18/20\n",
      "40/40 [==============================] - 0s 386us/step - loss: 0.0197 - acc: 0.0000e+00\n",
      "Epoch 19/20\n",
      "40/40 [==============================] - 0s 1ms/step - loss: 0.0189 - acc: 0.0000e+00\n",
      "Epoch 20/20\n",
      "40/40 [==============================] - 0s 2ms/step - loss: 0.0183 - acc: 0.0000e+00\n"
     ]
    },
    {
     "data": {
      "image/png": "[encoded data removed]",
      "text/plain": [
       "<Figure size 432x288 with 1 Axes>"
      ]
     },
     "metadata": {},
     "output_type": "display_data"
    }
   ],
   "source": [
    "x = x.reshape(len(x), 1)\n",
    "\n",
    "network2 = models.Sequential()\n",
    "network2.add(layers.Dense(64, activation='relu', input_shape=(1,)))\n",
    "# network2.add(layers.Dense(units=200, input_dim=1))\n",
    "# network2.add(layers.Activation('relu'))\n",
    "# network2.add(layers.Dense(units=45))\n",
    "# network2.add(layers.Activation('relu'))\n",
    "network2.add(layers.Dense(1))\n",
    "\n",
    "network2.compile(optimizer='sgd',\n",
    "                loss='mse',\n",
    "                metrics=['accuracy'])\n",
    "network2.fit(x, y, epochs=20, batch_size=10)\n",
    "result = network2.predict(test_x, batch_size=10)\n",
    "\n",
    "plt.plot(test_x, result, 'ro')\n",
    "plt.show()"
   ]
  }
 ],
 "metadata": {
  "kernelspec": {
   "display_name": "Python 3",
   "language": "python",
   "name": "python3"
  },
  "language_info": {
   "codemirror_mode": {
    "name": "ipython",
    "version": 3
   },
   "file_extension": ".py",
   "mimetype": "text/x-python",
   "name": "python",
   "nbconvert_exporter": "python",
   "pygments_lexer": "ipython3",
   "version": "3.6.5"
  }
 },
 "nbformat": 4,
 "nbformat_minor": 2
}

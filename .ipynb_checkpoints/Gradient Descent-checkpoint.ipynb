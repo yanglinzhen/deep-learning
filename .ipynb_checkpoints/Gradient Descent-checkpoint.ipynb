{
 "cells": [
  {
   "cell_type": "code",
   "execution_count": 1,
   "metadata": {},
   "outputs": [
    {
     "name": "stdout",
     "output_type": "stream",
     "text": [
      "init_w=[1], init_b=12.06\n",
      "first 20 elements of \n",
      "x: [12 17 42 35  9 47 87 16  3 40 64 27 83 10 97 19 43 61  5 90] \r\n",
      "y: [ 35  24  71  38  24  69  95  18  28  56  65  49  89  37 107  47  45  62\n",
      "  13  98]\n"
     ]
    }
   ],
   "source": [
    "import numpy as np\n",
    "import matplotlib.pyplot as plt\n",
    "\n",
    "size=100\n",
    "total_x = np.array(range(size))\n",
    "np.random.shuffle(total_x)\n",
    "init_w = np.random.randint(5, size=1)\n",
    "init_b = np.random.randint(0, 30, size)\n",
    "total_y = total_x * init_w + init_b\n",
    "\n",
    "print(\"init_w={0}, init_b={1}\".format(init_w, init_b.sum()/len(init_b)))\n",
    "print(\"first 20 elements of \\nx: {0} \\r\\ny: {1}\".format(total_x[:20], total_y[:20]))\n",
    "\n",
    "train_x = total_x[:10]\n",
    "train_y = total_y[:10]\n",
    "\n",
    "loop=4\n",
    "w=0\n",
    "b=0\n",
    "rate=0.0001\n",
    "N = len(train_y)"
   ]
  },
  {
   "cell_type": "code",
   "execution_count": 2,
   "metadata": {},
   "outputs": [
    {
     "name": "stdout",
     "output_type": "stream",
     "text": [
      "w:0.9820375569950212, b:0.024922501371711342\n"
     ]
    },
    {
     "data": {
      "image/png": "[encoded data removed]",
      "text/plain": [
       "<matplotlib.figure.Figure at 0x1dbe9890b00>"
      ]
     },
     "metadata": {},
     "output_type": "display_data"
    }
   ],
   "source": [
    "for i in range(loop):\n",
    "    pred_y = w * train_x + b\n",
    "    loss = ((train_y - pred_y) ** 2 / N).sum().astype(int)\n",
    "    gradient_w = ((pred_y - train_y) * train_x * 2 / N).sum()#f'(w)=2/N*x*(wx+b-y)\n",
    "    gradient_b = ((pred_y - train_y) * 2 / N).sum()#f'(b)=2/N*(wx+b-y)\n",
    "#     print(\"loss={0}, w={1}, gradient_w={2}, b={3}, gradient_b={4}\".format(loss, w, gradient_w, b, gradient_b))\n",
    "    w = w - (rate * gradient_w)\n",
    "    b = b - (rate * gradient_b)\n",
    "print(\"w:{0}, b:{1}\".format(w, b))\n",
    "\n",
    "test_y = w * train_x + b\n",
    "\n",
    "min_x = min(total_x)\n",
    "max_x = max(total_x)\n",
    "result_x = np.array([min_x, max_x])\n",
    "result_y = np.array([w * min_x + b, w * max_x + b])\n",
    "    \n",
    "plt.plot(total_x, total_y, 'bo', label='train_data')\n",
    "plt.plot(result_x, result_y, 'y', label='test_data')\n",
    "\n",
    "plt.title('Linear Regression')\n",
    "plt.xlabel('x')\n",
    "plt.ylabel('y')\n",
    "plt.legend()\n",
    "\n",
    "plt.show()"
   ]
  },
  {
   "cell_type": "code",
   "execution_count": 3,
   "metadata": {},
   "outputs": [
    {
     "name": "stderr",
     "output_type": "stream",
     "text": [
      "Using TensorFlow backend.\n"
     ]
    }
   ],
   "source": [
    "import keras\n",
    "from keras import models\n",
    "from keras import layers\n",
    "from keras import optimizers\n",
    "\n",
    "network = models.Sequential()\n",
    "network.add(layers.Dense(1, input_shape=(1,)))\n"
   ]
  },
  {
   "cell_type": "code",
   "execution_count": 4,
   "metadata": {},
   "outputs": [
    {
     "name": "stdout",
     "output_type": "stream",
     "text": [
      "Epoch 1/10\n",
      "10/10 [==============================] - 0s - loss: 2697.1619\n",
      "Epoch 2/10\n",
      "10/10 [==============================] - 0s - loss: 2157955.5000\n",
      "Epoch 3/10\n",
      "10/10 [==============================] - 0s - loss: 1852999296.0000\n",
      "Epoch 4/10\n",
      "10/10 [==============================] - 0s - loss: 1591273324544.0000\n",
      "Epoch 5/10\n",
      "10/10 [==============================] - 0s - loss: 1366514577965056.0000\n",
      "Epoch 6/10\n",
      "10/10 [==============================] - 0s - loss: 1173502300694511616.0000\n",
      "Epoch 7/10\n",
      "10/10 [==============================] - 0s - loss: 1007751559424512098304.0000\n",
      "Epoch 8/10\n",
      "10/10 [==============================] - 0s - loss: 865412280856266814783488.0000\n",
      "Epoch 9/10\n",
      "10/10 [==============================] - 0s - loss: 743177260153269776830955520.0000\n",
      "Epoch 10/10\n",
      "10/10 [==============================] - 0s - loss: 638207656210217731506661490688.0000\n"
     ]
    },
    {
     "data": {
      "text/plain": [
       "<keras.callbacks.History at 0x1dbf1f07f28>"
      ]
     },
     "execution_count": 4,
     "metadata": {},
     "output_type": "execute_result"
    }
   ],
   "source": [
    "network.compile(optimizer='sgd',\n",
    "                loss='mean_squared_error')\n",
    "network.fit(train_x, train_y, epochs=10, batch_size=100)"
   ]
  }
 ],
 "metadata": {
  "kernelspec": {
   "display_name": "Python 3",
   "language": "python",
   "name": "python3"
  },
  "language_info": {
   "codemirror_mode": {
    "name": "ipython",
    "version": 3
   },
   "file_extension": ".py",
   "mimetype": "text/x-python",
   "name": "python",
   "nbconvert_exporter": "python",
   "pygments_lexer": "ipython3",
   "version": "3.6.1"
  }
 },
 "nbformat": 4,
 "nbformat_minor": 2
}
